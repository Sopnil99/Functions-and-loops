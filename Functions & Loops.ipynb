{
 "cells": [
  {
   "cell_type": "code",
   "execution_count": 1,
   "id": "0f7bc8e9-a0f1-4785-b5d2-4da9987c8253",
   "metadata": {},
   "outputs": [],
   "source": [
    "import pandas as pd \n",
    "import numpy as np\n",
    "import matplotlib.pyplot as plt\n",
    "import seaborn as sns\n",
    "%matplotlib inline"
   ]
  },
  {
   "cell_type": "markdown",
   "id": "6ea42414-c56f-4bc9-9b0b-246944c3a50c",
   "metadata": {},
   "source": [
    "# For Function"
   ]
  },
  {
   "cell_type": "code",
   "execution_count": 3,
   "id": "bc770416-cd0f-4c99-99f8-ff5a47804639",
   "metadata": {},
   "outputs": [
    {
     "name": "stdout",
     "output_type": "stream",
     "text": [
      "1 2 3 4 5 6 7 8 9 10 11 12 13 14 15 16 17 18 19 20 21 22 23 24 25 26 27 28 29 30 31 32 33 34 35 36 37 38 39 40 41 42 43 44 45 46 47 48 49 50 51 52 53 54 55 56 57 58 59 60 61 62 63 64 65 66 67 68 69 70 71 72 73 74 75 76 77 78 79 80 81 82 83 84 85 86 87 88 89 90 91 92 93 94 95 96 97 98 99\n"
     ]
    }
   ],
   "source": [
    "print(*list(range(1, 100)))"
   ]
  },
  {
   "cell_type": "code",
   "execution_count": 4,
   "id": "b7f743b6-83b5-4e97-802e-9bbeeab6649c",
   "metadata": {},
   "outputs": [
    {
     "name": "stdout",
     "output_type": "stream",
     "text": [
      "3\n",
      "5\n",
      "6\n",
      "9\n",
      "10\n",
      "12\n",
      "15\n",
      "18\n",
      "20\n",
      "21\n",
      "24\n",
      "25\n",
      "27\n",
      "30\n",
      "33\n",
      "35\n",
      "36\n",
      "39\n",
      "40\n",
      "42\n",
      "45\n",
      "48\n",
      "50\n",
      "51\n",
      "54\n",
      "55\n",
      "57\n",
      "60\n",
      "63\n",
      "65\n",
      "66\n",
      "69\n",
      "70\n",
      "72\n",
      "75\n",
      "78\n",
      "80\n",
      "81\n",
      "84\n",
      "85\n",
      "87\n",
      "90\n",
      "93\n",
      "95\n",
      "96\n",
      "99\n",
      "2318\n"
     ]
    }
   ],
   "source": [
    "A = 0\n",
    "for i in range(1, 100):  # Corrected 'range'\n",
    "    if i % 3 == 0 or i % 5 ==0:\n",
    "        print(i) # Checking if divisible by both 3 and 5\n",
    "        A += i\n",
    "print(A)        "
   ]
  },
  {
   "cell_type": "code",
   "execution_count": 5,
   "id": "3561dbda-f737-4da4-9af0-9772608264e7",
   "metadata": {},
   "outputs": [
    {
     "name": "stdout",
     "output_type": "stream",
     "text": [
      "8\n"
     ]
    }
   ],
   "source": [
    "def add(a, b):\n",
    "    return a + b\n",
    "\n",
    "# Example usage:\n",
    "result = add(5, 3)\n",
    "print(result)  # Output: 8\n"
   ]
  },
  {
   "cell_type": "code",
   "execution_count": 6,
   "id": "40157bd1-46f9-4e2e-8c72-e9a226a37f91",
   "metadata": {},
   "outputs": [
    {
     "name": "stdout",
     "output_type": "stream",
     "text": [
      "Happy birthday Mao \n"
     ]
    }
   ],
   "source": [
    "def greet(Name):\n",
    "    return (\"Happy birthday\" + Name)\n",
    "print(greet(' Mao '))"
   ]
  },
  {
   "cell_type": "code",
   "execution_count": 7,
   "id": "ffdb7f6b-ae9b-478d-b840-c2872944d670",
   "metadata": {},
   "outputs": [
    {
     "name": "stdout",
     "output_type": "stream",
     "text": [
      "Hi Ge Mao Happy Birthday to you\n"
     ]
    }
   ],
   "source": [
    "def greet (name):\n",
    "    return (\"Hi\" + name + \"Happy Birthday to you\")\n",
    "print(greet( ' Ge Mao ' ))"
   ]
  },
  {
   "cell_type": "code",
   "execution_count": 8,
   "id": "465d90d5-f40b-47b0-87fc-7a37b9fc9bac",
   "metadata": {},
   "outputs": [
    {
     "name": "stdout",
     "output_type": "stream",
     "text": [
      "Good Morning Atika \n"
     ]
    }
   ],
   "source": [
    "def Wish(Name):\n",
    "    return (\"Good Morning\"+ Name)\n",
    "print(Wish(\" Atika \"))"
   ]
  },
  {
   "cell_type": "code",
   "execution_count": 9,
   "id": "a3d1dcfe-f88b-4a87-b0b1-be1ca64a147f",
   "metadata": {},
   "outputs": [
    {
     "name": "stdout",
     "output_type": "stream",
     "text": [
      "8\n"
     ]
    }
   ],
   "source": [
    "def add(a, b):\n",
    "    return a+b\n",
    "result=add(3,5)\n",
    "print(result)\n",
    "    "
   ]
  },
  {
   "cell_type": "code",
   "execution_count": 10,
   "id": "dbcb7307-0d69-47ed-a040-18d548f4d230",
   "metadata": {},
   "outputs": [
    {
     "name": "stdout",
     "output_type": "stream",
     "text": [
      "64\n"
     ]
    }
   ],
   "source": [
    "def add(a, b):\n",
    "    return (a+b)**2\n",
    "result= add(5,3)\n",
    "print(result)\n"
   ]
  },
  {
   "cell_type": "code",
   "execution_count": 11,
   "id": "27512eb5-ff64-4894-818b-12d34ac53805",
   "metadata": {},
   "outputs": [
    {
     "name": "stdout",
     "output_type": "stream",
     "text": [
      "15\n"
     ]
    }
   ],
   "source": [
    "def sum_of_numbers(n):\n",
    "    total = 0\n",
    "    for i in range(1, n + 1):\n",
    "        total += i\n",
    "    return total\n",
    "\n",
    "# Example usage:\n",
    "print(sum_of_numbers(5))  # Output: 15 (1 + 2 + 3 + 4 + 5)\n"
   ]
  },
  {
   "cell_type": "code",
   "execution_count": 12,
   "id": "32a397c8-873c-4920-be49-20da07aa3c4d",
   "metadata": {},
   "outputs": [],
   "source": [
    "def sum_of_numbers(n):\n",
    "    total=0\n",
    "    for i in range(1, n+1):\n",
    "        total+=i\n",
    "    return total"
   ]
  },
  {
   "cell_type": "code",
   "execution_count": 13,
   "id": "d73c2f27-2bd5-4bac-8f0d-f8f366ee29f2",
   "metadata": {},
   "outputs": [
    {
     "name": "stdout",
     "output_type": "stream",
     "text": [
      "15\n"
     ]
    }
   ],
   "source": [
    "print(sum_of_numbers(5))"
   ]
  },
  {
   "cell_type": "code",
   "execution_count": 14,
   "id": "fd4defb3-7321-4228-892e-4549cc361cba",
   "metadata": {},
   "outputs": [],
   "source": [
    "def sum_of_numbers(n):\n",
    "    total=0\n",
    "    for i in range(1,n+1):\n",
    "        total+=i\n",
    "    return total"
   ]
  },
  {
   "cell_type": "code",
   "execution_count": 15,
   "id": "93b4140e-a348-458b-8425-555d4281f95f",
   "metadata": {},
   "outputs": [
    {
     "name": "stdout",
     "output_type": "stream",
     "text": [
      "55\n"
     ]
    }
   ],
   "source": [
    "print(sum_of_numbers(10))"
   ]
  },
  {
   "cell_type": "code",
   "execution_count": 16,
   "id": "bac802d7-3db6-4124-8ae8-08a1ef6273ff",
   "metadata": {},
   "outputs": [],
   "source": [
    "def Number_series(n):\n",
    "    N=0\n",
    "    for i in range (1,n*1):\n",
    "        N+=i\n",
    "    return N"
   ]
  },
  {
   "cell_type": "code",
   "execution_count": 17,
   "id": "0948a5c5-0075-4ac1-a526-f8cccd2a6ca8",
   "metadata": {},
   "outputs": [
    {
     "name": "stdout",
     "output_type": "stream",
     "text": [
      "45\n"
     ]
    }
   ],
   "source": [
    "print(Number_series(10))"
   ]
  },
  {
   "cell_type": "code",
   "execution_count": 18,
   "id": "ad406716-deb5-4214-bbdc-a293837e2c08",
   "metadata": {},
   "outputs": [],
   "source": [
    "def is_even(numbers):\n",
    "    if numbers % 2 == 0:\n",
    "        return True\n",
    "    else:\n",
    "        return False\n",
    "         \n",
    "    "
   ]
  },
  {
   "cell_type": "code",
   "execution_count": 19,
   "id": "678056e7-e09f-4d1a-a85f-cb7e8cad3f2e",
   "metadata": {},
   "outputs": [
    {
     "name": "stdout",
     "output_type": "stream",
     "text": [
      "True\n"
     ]
    }
   ],
   "source": [
    "print(is_even(8))"
   ]
  },
  {
   "cell_type": "code",
   "execution_count": 20,
   "id": "07a82ad5-5336-4335-afd7-4349f5d90e42",
   "metadata": {},
   "outputs": [],
   "source": [
    "def is_even(numbers):\n",
    "    if numbers % 2 ==0:\n",
    "        return True\n",
    "    else:\n",
    "        return False"
   ]
  },
  {
   "cell_type": "code",
   "execution_count": 21,
   "id": "0e840316-724b-4945-aac8-beba7c1df527",
   "metadata": {},
   "outputs": [
    {
     "name": "stdout",
     "output_type": "stream",
     "text": [
      "True\n"
     ]
    }
   ],
   "source": [
    "print(is_even(10))"
   ]
  },
  {
   "cell_type": "code",
   "execution_count": 22,
   "id": "8abb7825-b36e-4a4e-ade0-65e78cee53aa",
   "metadata": {},
   "outputs": [
    {
     "name": "stdout",
     "output_type": "stream",
     "text": [
      "Area: 15, Perimeter: 16\n"
     ]
    }
   ],
   "source": [
    "def rectangle_properties(length, width):\n",
    "    area = length * width\n",
    "    perimeter = 2 * (length + width)\n",
    "    return area, perimeter\n",
    "\n",
    "# Example usage:\n",
    "area, perimeter = rectangle_properties(5, 3)\n",
    "print(f\"Area: {area}, Perimeter: {perimeter}\")\n",
    "# Output: Area: 15, Perimeter: 16\n"
   ]
  },
  {
   "cell_type": "code",
   "execution_count": 23,
   "id": "4b809dad-d993-4cad-b2a1-907e98e549c7",
   "metadata": {},
   "outputs": [],
   "source": [
    "def rectangle_properties(length, width):\n",
    "    area= length * width\n",
    "    perimeter= 2*(length*width)\n",
    "    return area, perimeter"
   ]
  },
  {
   "cell_type": "code",
   "execution_count": 24,
   "id": "7e92d5d1-5493-4413-bd5a-926c45af818f",
   "metadata": {},
   "outputs": [
    {
     "name": "stdout",
     "output_type": "stream",
     "text": [
      "Area: 15, Perimeter : 30\n"
     ]
    }
   ],
   "source": [
    "area, perimeter=rectangle_properties(5,3)\n",
    "print(f\"Area: {area }, Perimeter : {perimeter}\")"
   ]
  },
  {
   "cell_type": "code",
   "execution_count": 25,
   "id": "27022e68-2f4d-4390-abf1-a7b3dc2998f2",
   "metadata": {},
   "outputs": [
    {
     "name": "stdout",
     "output_type": "stream",
     "text": [
      "120\n"
     ]
    }
   ],
   "source": [
    "def factorial(n):\n",
    "    if n == 1:\n",
    "        return 1\n",
    "    else:\n",
    "        return n * factorial(n - 1)\n",
    "\n",
    "# Example usage:\n",
    "print(factorial(5))  # Output: 120 (5 * 4 * 3 * 2 * 1)\n"
   ]
  },
  {
   "cell_type": "code",
   "execution_count": 26,
   "id": "3a89265d-0ec9-4ab9-979a-5dbad0a3b38e",
   "metadata": {},
   "outputs": [
    {
     "name": "stdout",
     "output_type": "stream",
     "text": [
      "16\n"
     ]
    }
   ],
   "source": [
    "def square_function():\n",
    "    return lambda x: x * x\n",
    "\n",
    "# Example usage:\n",
    "square = square_function()\n",
    "print(square(4))  # Output: 16\n"
   ]
  },
  {
   "cell_type": "markdown",
   "id": "27abac7f-0eca-4737-936e-54017f7198e7",
   "metadata": {},
   "source": [
    "# For Loops"
   ]
  },
  {
   "cell_type": "code",
   "execution_count": 28,
   "id": "5bcf2687-3b9e-4ff5-8bd8-03cb5cae87d7",
   "metadata": {},
   "outputs": [
    {
     "name": "stdout",
     "output_type": "stream",
     "text": [
      "apple\n",
      "banana\n",
      "cherry\n"
     ]
    }
   ],
   "source": [
    "fruits = ['apple', 'banana', 'cherry']\n",
    "for fruit in fruits:\n",
    "    print(fruit)\n"
   ]
  },
  {
   "cell_type": "code",
   "execution_count": 29,
   "id": "1294ae9c-ff4d-472a-af1e-397bc7b81360",
   "metadata": {},
   "outputs": [
    {
     "name": "stdout",
     "output_type": "stream",
     "text": [
      "0\n",
      "1\n",
      "2\n",
      "3\n",
      "4\n"
     ]
    }
   ],
   "source": [
    "for i in range(5):\n",
    "    print(i)\n"
   ]
  },
  {
   "cell_type": "code",
   "execution_count": 30,
   "id": "2781ab08-9e10-42a3-9f75-d5b264128a29",
   "metadata": {},
   "outputs": [
    {
     "name": "stdout",
     "output_type": "stream",
     "text": [
      "Sum: 55\n"
     ]
    }
   ],
   "source": [
    "total = 0\n",
    "for i in range(1, 11):\n",
    "    total += i\n",
    "print(\"Sum:\", total)\n"
   ]
  },
  {
   "cell_type": "code",
   "execution_count": 31,
   "id": "d22d14a9-9af6-4545-954d-dbca2457b8e8",
   "metadata": {},
   "outputs": [
    {
     "name": "stdout",
     "output_type": "stream",
     "text": [
      "2 is even\n",
      "4 is even\n",
      "6 is even\n",
      "8 is even\n",
      "10 is even\n",
      "12 is even\n",
      "14 is even\n"
     ]
    }
   ],
   "source": [
    "for i in range(1, 15):\n",
    "    if i % 2 == 0:\n",
    "       print(f\"{i} is even\")\n"
   ]
  },
  {
   "cell_type": "code",
   "execution_count": 32,
   "id": "7b24d79f-0ece-4972-a70a-eee2ef62c2f8",
   "metadata": {},
   "outputs": [
    {
     "name": "stdout",
     "output_type": "stream",
     "text": [
      "name: Alice\n",
      "age: 30\n",
      "city: New York\n"
     ]
    }
   ],
   "source": [
    "person = {'name': 'Alice', 'age': 30, 'city': 'New York'}\n",
    "for key, value in person.items():\n",
    "    print(f\"{key}: {value}\")\n"
   ]
  },
  {
   "cell_type": "code",
   "execution_count": 33,
   "id": "4f3ccc5b-0220-4f24-bcf4-b73b7e5ad5ed",
   "metadata": {},
   "outputs": [
    {
     "name": "stdout",
     "output_type": "stream",
     "text": [
      "1\n",
      "3\n"
     ]
    }
   ],
   "source": [
    "for i in range(1, 11):\n",
    "    if i == 5:\n",
    "        break  # Exit the loop when i is 5\n",
    "    if i % 2 == 0:\n",
    "        continue  # Skip even numbers\n",
    "    print(i)\n"
   ]
  },
  {
   "cell_type": "code",
   "execution_count": 34,
   "id": "fd7c59c0-7edc-4d0f-86f9-d17bc4835d12",
   "metadata": {},
   "outputs": [
    {
     "name": "stdout",
     "output_type": "stream",
     "text": [
      "1 * 1 = 1\n",
      "1 * 2 = 2\n",
      "1 * 3 = 3\n",
      "\n",
      "2 * 1 = 2\n",
      "2 * 2 = 4\n",
      "2 * 3 = 6\n",
      "\n",
      "3 * 1 = 3\n",
      "3 * 2 = 6\n",
      "3 * 3 = 9\n",
      "\n"
     ]
    }
   ],
   "source": [
    "for i in range(1, 4):\n",
    "    for j in range(1, 4):\n",
    "        print(f\"{i} * {j} = {i * j}\")\n",
    "    print()    \n",
    "     # Newline after each row\n"
   ]
  },
  {
   "cell_type": "code",
   "execution_count": 35,
   "id": "0ca4d41a-65a2-4fad-824e-1248a35b4045",
   "metadata": {},
   "outputs": [
    {
     "name": "stdout",
     "output_type": "stream",
     "text": [
      "[1, 4, 9, 16, 25]\n"
     ]
    }
   ],
   "source": [
    "squares = [x * x for x in range(1, 6)]\n",
    "print(squares)\n"
   ]
  },
  {
   "cell_type": "code",
   "execution_count": 36,
   "id": "8b8a1e61-bb79-4c88-8005-102c00eecfcf",
   "metadata": {},
   "outputs": [
    {
     "name": "stdout",
     "output_type": "stream",
     "text": [
      "P\n",
      "y\n",
      "t\n",
      "h\n",
      "o\n",
      "n\n"
     ]
    }
   ],
   "source": [
    "word = \"Python\"\n",
    "for l in word:\n",
    "    \n",
    "    print(l)\n",
    "    \n"
   ]
  },
  {
   "cell_type": "code",
   "execution_count": 37,
   "id": "18dd879c-8f78-4fbd-8520-29ae3ae56731",
   "metadata": {},
   "outputs": [
    {
     "name": "stdout",
     "output_type": "stream",
     "text": [
      "1\n",
      "2\n",
      "3\n",
      "Loop finished\n"
     ]
    }
   ],
   "source": [
    "for i in range(1, 4):\n",
    "    print(i)\n",
    "    \n",
    "else:\n",
    "    print(\"Loop finished\")\n"
   ]
  },
  {
   "cell_type": "markdown",
   "id": "bba02b73-37ef-4fa2-acfb-35492b51a85b",
   "metadata": {},
   "source": [
    "# While Loop"
   ]
  },
  {
   "cell_type": "code",
   "execution_count": 39,
   "id": "7ba5126a-d1de-4a1d-8352-da523af38d8c",
   "metadata": {},
   "outputs": [
    {
     "name": "stdout",
     "output_type": "stream",
     "text": [
      "1\n",
      "2\n",
      "3\n",
      "4\n",
      "5\n",
      "6\n",
      "7\n",
      "8\n"
     ]
    }
   ],
   "source": [
    "i=1\n",
    "while i<=8:\n",
    "    print(i)\n",
    "    i +=1"
   ]
  },
  {
   "cell_type": "code",
   "execution_count": 40,
   "id": "388cc464-fc1e-4107-995c-c398f94be32a",
   "metadata": {},
   "outputs": [
    {
     "name": "stdout",
     "output_type": "stream",
     "text": [
      "1\n",
      "2\n",
      "3\n",
      "4\n",
      "5\n"
     ]
    }
   ],
   "source": [
    "i=1\n",
    "while True:\n",
    "    print(i)\n",
    "    if i==5:\n",
    "        break\n",
    "    i+=1"
   ]
  },
  {
   "cell_type": "code",
   "execution_count": 41,
   "id": "3747e50a-3a2b-4135-ad86-225588bdc9d7",
   "metadata": {},
   "outputs": [
    {
     "name": "stdout",
     "output_type": "stream",
     "text": [
      "1\n",
      "2\n",
      "3\n",
      "4\n",
      "5\n",
      "6\n",
      "7\n"
     ]
    }
   ],
   "source": [
    "i=1\n",
    "while True:\n",
    "    print(i)\n",
    "    if i==7:\n",
    "        break\n",
    "    i +=1"
   ]
  },
  {
   "cell_type": "code",
   "execution_count": 42,
   "id": "4968b056-8590-4c2d-88d5-f0977728be71",
   "metadata": {},
   "outputs": [
    {
     "name": "stdout",
     "output_type": "stream",
     "text": [
      "1\n",
      "3\n",
      "5\n",
      "7\n",
      "9\n"
     ]
    }
   ],
   "source": [
    "i = 0\n",
    "while i < 10:\n",
    "    i += 1\n",
    "    if i % 2 == 0:\n",
    "        continue  # Skip even numbers\n",
    "    print(i)\n"
   ]
  },
  {
   "cell_type": "code",
   "execution_count": null,
   "id": "e2c6464f-d6a1-4222-b086-eae931348f51",
   "metadata": {},
   "outputs": [],
   "source": []
  }
 ],
 "metadata": {
  "kernelspec": {
   "display_name": "Python 3 (ipykernel)",
   "language": "python",
   "name": "python3"
  },
  "language_info": {
   "codemirror_mode": {
    "name": "ipython",
    "version": 3
   },
   "file_extension": ".py",
   "mimetype": "text/x-python",
   "name": "python",
   "nbconvert_exporter": "python",
   "pygments_lexer": "ipython3",
   "version": "3.12.4"
  }
 },
 "nbformat": 4,
 "nbformat_minor": 5
}
